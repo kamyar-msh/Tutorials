{
 "cells": [
  {
   "cell_type": "markdown",
   "metadata": {},
   "source": [
    "# <font color='red'>Model building"
   ]
  },
  {
   "cell_type": "code",
   "execution_count": 1,
   "metadata": {
    "collapsed": true
   },
   "outputs": [],
   "source": [
    "import pandas as pd\n",
    "import numpy as np\n",
    "import os\n",
    "import re\n",
    "import pickle\n",
    "from IPython.display import display\n",
    "import warnings\n",
    "warnings.filterwarnings('ignore')\n",
    "\n",
    "# For algorithms\n",
    "from sklearn.feature_extraction.text import CountVectorizer, TfidfVectorizer\n",
    "from sklearn.decomposition import LatentDirichletAllocation"
   ]
  },
  {
   "cell_type": "code",
   "execution_count": 2,
   "metadata": {
    "collapsed": false
   },
   "outputs": [],
   "source": [
    "with open('corpus_lemmatized.pickle', 'rb') as handle:\n",
    "    df_corpus = pickle.load(handle)"
   ]
  },
  {
   "cell_type": "code",
   "execution_count": 3,
   "metadata": {
    "collapsed": false
   },
   "outputs": [
    {
     "data": {
      "text/html": [
       "<div>\n",
       "<style scoped>\n",
       "    .dataframe tbody tr th:only-of-type {\n",
       "        vertical-align: middle;\n",
       "    }\n",
       "\n",
       "    .dataframe tbody tr th {\n",
       "        vertical-align: top;\n",
       "    }\n",
       "\n",
       "    .dataframe thead th {\n",
       "        text-align: right;\n",
       "    }\n",
       "</style>\n",
       "<table border=\"1\" class=\"dataframe\">\n",
       "  <thead>\n",
       "    <tr style=\"text-align: right;\">\n",
       "      <th></th>\n",
       "      <th>tag</th>\n",
       "      <th>abstract</th>\n",
       "      <th>cleaned_abstract</th>\n",
       "    </tr>\n",
       "  </thead>\n",
       "  <tbody>\n",
       "    <tr>\n",
       "      <th>count</th>\n",
       "      <td>7888</td>\n",
       "      <td>7888</td>\n",
       "      <td>7888</td>\n",
       "    </tr>\n",
       "    <tr>\n",
       "      <th>unique</th>\n",
       "      <td>3</td>\n",
       "      <td>7888</td>\n",
       "      <td>7888</td>\n",
       "    </tr>\n",
       "    <tr>\n",
       "      <th>top</th>\n",
       "      <td>DMS</td>\n",
       "      <td>wan this award supports the research of profe...</td>\n",
       "      <td>davis grant cover travel expense scientist att...</td>\n",
       "    </tr>\n",
       "    <tr>\n",
       "      <th>freq</th>\n",
       "      <td>3666</td>\n",
       "      <td>1</td>\n",
       "      <td>1</td>\n",
       "    </tr>\n",
       "  </tbody>\n",
       "</table>\n",
       "</div>"
      ],
      "text/plain": [
       "         tag                                           abstract  \\\n",
       "count   7888                                               7888   \n",
       "unique     3                                               7888   \n",
       "top      DMS   wan this award supports the research of profe...   \n",
       "freq    3666                                                  1   \n",
       "\n",
       "                                         cleaned_abstract  \n",
       "count                                                7888  \n",
       "unique                                               7888  \n",
       "top     davis grant cover travel expense scientist att...  \n",
       "freq                                                    1  "
      ]
     },
     "metadata": {},
     "output_type": "display_data"
    }
   ],
   "source": [
    "display(df_corpus.describe())"
   ]
  },
  {
   "cell_type": "markdown",
   "metadata": {},
   "source": [
    "Firstly a function is defined to identify each topic by finding its keywords:"
   ]
  },
  {
   "cell_type": "code",
   "execution_count": 4,
   "metadata": {
    "collapsed": true
   },
   "outputs": [],
   "source": [
    "def get_topic_keywords(model, feature_names, no_top_words):\n",
    "    # Keep track of keywords that define topic 0 to topic n\n",
    "    topic_names = {}\n",
    "    for topic_idx, topic in enumerate(model.components_):\n",
    "        topic_names[topic_idx] = [feature_names[i] for i in topic.argsort()[:-no_top_words - 1:-1]]\n",
    "    return topic_names"
   ]
  },
  {
   "cell_type": "markdown",
   "metadata": {},
   "source": [
    "Here a vector representing the words in the corpus is made:"
   ]
  },
  {
   "cell_type": "code",
   "execution_count": 5,
   "metadata": {
    "collapsed": false
   },
   "outputs": [],
   "source": [
    "tf_vectorizer = TfidfVectorizer(min_df=100,max_df=.8)\n",
    "tf = tf_vectorizer.fit_transform(df_corpus['cleaned_abstract'].tolist())\n",
    "tf_feature_names = tf_vectorizer.get_feature_names()"
   ]
  },
  {
   "cell_type": "markdown",
   "metadata": {},
   "source": [
    "Now the vector is fed into the LDA model:"
   ]
  },
  {
   "cell_type": "code",
   "execution_count": 6,
   "metadata": {
    "collapsed": false,
    "scrolled": true
   },
   "outputs": [],
   "source": [
    "# Set number of topics\n",
    "no_topics = 3\n",
    "lda = LatentDirichletAllocation(n_topics=no_topics,max_iter=100, verbose=1, learning_method='online').fit(tf)"
   ]
  },
  {
   "cell_type": "code",
   "execution_count": 7,
   "metadata": {
    "collapsed": false,
    "scrolled": true
   },
   "outputs": [],
   "source": [
    "# Set number of keywords defining a topic\n",
    "no_top_words = 10\n",
    "topic_ratio = lda.transform(tf)\n",
    "topics = get_topic_keywords(lda, tf_feature_names, no_top_words)"
   ]
  },
  {
   "cell_type": "markdown",
   "metadata": {},
   "source": [
    "## <font color='blue'>LDA Results"
   ]
  },
  {
   "cell_type": "markdown",
   "metadata": {},
   "source": [
    "Here a new data frame is created for sake of visualization:"
   ]
  },
  {
   "cell_type": "code",
   "execution_count": 8,
   "metadata": {
    "collapsed": true
   },
   "outputs": [],
   "source": [
    "visualization = df_corpus.copy()\n",
    "visualization.drop('cleaned_abstract',axis=1, inplace=True)"
   ]
  },
  {
   "cell_type": "markdown",
   "metadata": {},
   "source": [
    "This new column contains the ratio of all topics in one document: "
   ]
  },
  {
   "cell_type": "code",
   "execution_count": 9,
   "metadata": {
    "collapsed": false
   },
   "outputs": [],
   "source": [
    "visualization['topics_ratio'] = np.around(topic_ratio,4).tolist()"
   ]
  },
  {
   "cell_type": "markdown",
   "metadata": {},
   "source": [
    "Two new columns to keep top 5 topics and their corresponding ratios: "
   ]
  },
  {
   "cell_type": "code",
   "execution_count": 10,
   "metadata": {
    "collapsed": false
   },
   "outputs": [],
   "source": [
    "visualization['top_topic'] = visualization['topics_ratio'].apply(lambda x: np.argsort(x)[2])\n",
    "visualization['top_ratio'] = visualization['topics_ratio'].apply(lambda x: sorted(x, reverse=True)[0])\n",
    "# we don't need all ratios anymore\n",
    "visualization.drop('topics_ratio',axis=1, inplace=True)"
   ]
  },
  {
   "cell_type": "code",
   "execution_count": 11,
   "metadata": {
    "collapsed": false
   },
   "outputs": [],
   "source": [
    "#A summary of two above columns as a dictionary:\n",
    "#final_result['top'] = final_result['topics_ratio'].apply(lambda x: dict(zip(np.argsort(x)[0:5],sorted(x, reverse=True)[0:5])))"
   ]
  },
  {
   "cell_type": "code",
   "execution_count": 12,
   "metadata": {
    "collapsed": false,
    "scrolled": true
   },
   "outputs": [
    {
     "data": {
      "text/html": [
       "<div>\n",
       "<style scoped>\n",
       "    .dataframe tbody tr th:only-of-type {\n",
       "        vertical-align: middle;\n",
       "    }\n",
       "\n",
       "    .dataframe tbody tr th {\n",
       "        vertical-align: top;\n",
       "    }\n",
       "\n",
       "    .dataframe thead th {\n",
       "        text-align: right;\n",
       "    }\n",
       "</style>\n",
       "<table border=\"1\" class=\"dataframe\">\n",
       "  <thead>\n",
       "    <tr style=\"text-align: right;\">\n",
       "      <th></th>\n",
       "      <th>tag</th>\n",
       "      <th>abstract</th>\n",
       "      <th>top_topic</th>\n",
       "      <th>top_ratio</th>\n",
       "      <th>topic_keywords</th>\n",
       "    </tr>\n",
       "  </thead>\n",
       "  <tbody>\n",
       "    <tr>\n",
       "      <th>a9000038.txt</th>\n",
       "      <td>DMS</td>\n",
       "      <td>this research is part of an on going program by the principal investigator and associates  topics in the following areas are to be considered     controlled markov diffusions and nonlinear pdes     asymptotic properties of nearly deterministic markov processes     financial economics applications     singular stochastic control     computational methods in stochastic control     stochastic calculus of variations     nonlinear estimation  analytical methods based on viscosity solution techniques for nonlinear differential equations as well as probabilistic methods will be studied  these theoretical studies are the basis for applied problems ranging from decisions at the stock market level to the control of spaceships</td>\n",
       "      <td>1</td>\n",
       "      <td>0.8568</td>\n",
       "      <td>[theory, problem, equation, space, geometry, group, mathematical, analysis, investigator, method]</td>\n",
       "    </tr>\n",
       "    <tr>\n",
       "      <th>a9000053.txt</th>\n",
       "      <td>DMS</td>\n",
       "      <td>the mathematical theories of multivariate polynomial interpolation and multivariate spline approximation differ in content and goals  yet share a common source  in addition  many of the mathematical tools used to analyze basic questions are similar  underlying much of this work has been the problem of developing a strategy for developing a theory of splines in several dimensions which is both computationally effective and as accurate as the one dimensional basis from which the subject arose  work on multivariate polynomial interpolation derives from problems in what became known as box spline theory  a surprisingly simple and general method for choosing  for any given finite set of points in a space of several variables  a good polynomial space for interpolation at those points  has been discovered  work will now be done exploring the theoretical and practical ramifications of this discovery  a long term objective is to construct a coherent theory of interpolation  one which will play a more important role in multivariate numerical analysis  there are many approaches to spline approximation in higher dimensions currently in use  each is associated with a certain type of mesh along which the elements are joined  the focus of this work will be that of approximation order  a better understanding of what makes for a good approximation order is expected to lead to the construction of better approximation methods  ultimately  one would like to develop a unification of the various theories and techniques now extant  a particularly important area of application of this work is in providing mathematical models of surfaces  often from a given set of bounding curves  the mainstay of industrial work at this time is a method which only works for relatively flat surfaces  one immediate goal is to obtain a better understanding of how one can tell whether a given surface can be well represented by a small number of patches</td>\n",
       "      <td>1</td>\n",
       "      <td>0.9160</td>\n",
       "      <td>[theory, problem, equation, space, geometry, group, mathematical, analysis, investigator, method]</td>\n",
       "    </tr>\n",
       "    <tr>\n",
       "      <th>a9000054.txt</th>\n",
       "      <td>DMS</td>\n",
       "      <td>work to be done during the period of this award will focus on higher dimensional inverse scattering problems and on related one dimensional problems  the underlying idea for work of this nature is that of constructing obstacles from data measured as particles pass the obstacle  the transition from the future of a solution of  say  the wave equation  to the past is called the scattering transform  knowledge of either the transform or its spectrum is considered to be central to understanding any wave or generalized wave which experiences scattering  this work will consider extending results on time dependent schrodinger equations with slowly decaying potentials in which the inverse equation admits simple poles  in higher dimensional settings the advent of multiple poles cannot be ruled out  however  their structure is not understood  the question of whether or not they may accumulate will also be studied  one method to be used will consider solutions for time dependent schrodinger equations which are not necessarily bounded in time  this method has been used to achieve the complete solution  for all potentials  for the one dimensional nxn inverse scattering problem as well as for the one dimensional n th order scalar equation  several classical equations and systems are expected to be analyzed using results developed through this investigation  they include the zakharov shabat system and the kpi equation</td>\n",
       "      <td>1</td>\n",
       "      <td>0.8428</td>\n",
       "      <td>[theory, problem, equation, space, geometry, group, mathematical, analysis, investigator, method]</td>\n",
       "    </tr>\n",
       "    <tr>\n",
       "      <th>a9000075.txt</th>\n",
       "      <td>IBN</td>\n",
       "      <td>in collaboration with costa rican graduate students and scientists at two universities in costa rica  dr  owens will carry out a two year field study of the behavioral factors influencing the migrations and unique nesting patterns of the olive ridley sea turtle  the olive ridley and the closely related kemp s ridley have a distinctive nesting behavior in which thousands of turtles gather in nearshore waters at the nesting beach and then emerge en masse to lay their eggs  this mass nesting is commonly known by the spanish word  arribada   but the physiological mechanisms and environmental cues involved are unknown  the olive ridley is a commercially important species threatened with extinction because it is under extreme exploitation pressure from fisheries between mexico and equador  because of the lack of data on the at sea behavior and movements of the olive ridley  any information collected will contribute significantly to our understanding of this animal  the objectives of this study are to    monitor the pre nesting and post nesting at sea movements and diving characteristics of the olive ridley and    determine the behavioral components involved in arribada mating and massing  these data will then be combined with information on the physiology of the same turtles  being obtained under grant bns    dr  owens and his colleagues will attach satellite tracking transmitters to female and male olive ridleys to follow their movements  both behavior in the vicinity of the nesting beach and long term migrations away from the nesting beach to the feeding grounds will be studied  monitoring these movements will allow the researchers to evaluate feeding  courtship  mating  and massing behaviors prior to and following arribada events  an improved understanding of the factors regulating the mass nesting and migratory behaviors has basic importance in marine zoology and potential value in developing improved methods for conserving this commercially exploited species</td>\n",
       "      <td>0</td>\n",
       "      <td>0.8178</td>\n",
       "      <td>[cell, gene, month, protein, plant, brain, development, mechanism, animal, behavior]</td>\n",
       "    </tr>\n",
       "    <tr>\n",
       "      <th>a9000094.txt</th>\n",
       "      <td>IBN</td>\n",
       "      <td>the continued destruction of the coastal and tropical forest in south and central america threatens the survival of natural animal populations  including the callitrichid primates  tamarins and marmosets   while the golden lion tamarins are considered an endangered species  through a highly successful breeding program at the university of nebraska under the auspices of the national zoological park  these primates are being bred in captivity and a small group of six have recently been reintroduced into forests of brazil  their survival as a species  however  depends extensively on understanding how their reproduction is synchronized to lead to a greater likelihood of fertilization  dr  french will investigate the complex interplay between internal physiological factors and external social and environmental factors in gold lion tamarins  unlike old world primates and apes  the callitrichid primates are monogamous and thus  develop a close and long lasting association  or pair  bond  between a breeding male and female  dr  french will use noninvasive data collection techniques for both hormone samples and behavioral measurements to compare the degree to which social factors influence hormonal regulation of reproduction  his findings will be compared with the results obtained in similarly conducted studies in which old world non monogamous primate species have been used  this work will contribute to our understanding of the role of hormonal and social influences on reproductive behavior in golden lion tamarins as well as other new world primates of which many are considered threatened or endangered species  furthermore  the results will significantly enhance the captive breeding programs of endangered species and thus  contribute to the preservation of these small south american primates</td>\n",
       "      <td>0</td>\n",
       "      <td>0.8433</td>\n",
       "      <td>[cell, gene, month, protein, plant, brain, development, mechanism, animal, behavior]</td>\n",
       "    </tr>\n",
       "  </tbody>\n",
       "</table>\n",
       "</div>"
      ],
      "text/plain": [
       "              tag  \\\n",
       "a9000038.txt  DMS   \n",
       "a9000053.txt  DMS   \n",
       "a9000054.txt  DMS   \n",
       "a9000075.txt  IBN   \n",
       "a9000094.txt  IBN   \n",
       "\n",
       "                                                                                                                                                                                                                                                                                                                                                                                                                                                                                                                                                                                                                                                                                                                                                                                                                                                                                                                                                                                                                                                                                                                                                                                                                                                                                                                                                                                                                                                                                                                                                                                                                                                                                                                                                                                                                                                                                                                                                                                                                                                                              abstract  \\\n",
       "a9000038.txt  this research is part of an on going program by the principal investigator and associates  topics in the following areas are to be considered     controlled markov diffusions and nonlinear pdes     asymptotic properties of nearly deterministic markov processes     financial economics applications     singular stochastic control     computational methods in stochastic control     stochastic calculus of variations     nonlinear estimation  analytical methods based on viscosity solution techniques for nonlinear differential equations as well as probabilistic methods will be studied  these theoretical studies are the basis for applied problems ranging from decisions at the stock market level to the control of spaceships                                                                                                                                                                                                                                                                                                                                                                                                                                                                                                                                                                                                                                                                                                                                                                                                                                                                                                                                                                                                                                                                                                                                                                                                                                                                                                                      \n",
       "a9000053.txt  the mathematical theories of multivariate polynomial interpolation and multivariate spline approximation differ in content and goals  yet share a common source  in addition  many of the mathematical tools used to analyze basic questions are similar  underlying much of this work has been the problem of developing a strategy for developing a theory of splines in several dimensions which is both computationally effective and as accurate as the one dimensional basis from which the subject arose  work on multivariate polynomial interpolation derives from problems in what became known as box spline theory  a surprisingly simple and general method for choosing  for any given finite set of points in a space of several variables  a good polynomial space for interpolation at those points  has been discovered  work will now be done exploring the theoretical and practical ramifications of this discovery  a long term objective is to construct a coherent theory of interpolation  one which will play a more important role in multivariate numerical analysis  there are many approaches to spline approximation in higher dimensions currently in use  each is associated with a certain type of mesh along which the elements are joined  the focus of this work will be that of approximation order  a better understanding of what makes for a good approximation order is expected to lead to the construction of better approximation methods  ultimately  one would like to develop a unification of the various theories and techniques now extant  a particularly important area of application of this work is in providing mathematical models of surfaces  often from a given set of bounding curves  the mainstay of industrial work at this time is a method which only works for relatively flat surfaces  one immediate goal is to obtain a better understanding of how one can tell whether a given surface can be well represented by a small number of patches                                                       \n",
       "a9000054.txt  work to be done during the period of this award will focus on higher dimensional inverse scattering problems and on related one dimensional problems  the underlying idea for work of this nature is that of constructing obstacles from data measured as particles pass the obstacle  the transition from the future of a solution of  say  the wave equation  to the past is called the scattering transform  knowledge of either the transform or its spectrum is considered to be central to understanding any wave or generalized wave which experiences scattering  this work will consider extending results on time dependent schrodinger equations with slowly decaying potentials in which the inverse equation admits simple poles  in higher dimensional settings the advent of multiple poles cannot be ruled out  however  their structure is not understood  the question of whether or not they may accumulate will also be studied  one method to be used will consider solutions for time dependent schrodinger equations which are not necessarily bounded in time  this method has been used to achieve the complete solution  for all potentials  for the one dimensional nxn inverse scattering problem as well as for the one dimensional n th order scalar equation  several classical equations and systems are expected to be analyzed using results developed through this investigation  they include the zakharov shabat system and the kpi equation                                                                                                                                                                                                                                                                                                                                                                                                                                                                                                                                                                                          \n",
       "a9000075.txt  in collaboration with costa rican graduate students and scientists at two universities in costa rica  dr  owens will carry out a two year field study of the behavioral factors influencing the migrations and unique nesting patterns of the olive ridley sea turtle  the olive ridley and the closely related kemp s ridley have a distinctive nesting behavior in which thousands of turtles gather in nearshore waters at the nesting beach and then emerge en masse to lay their eggs  this mass nesting is commonly known by the spanish word  arribada   but the physiological mechanisms and environmental cues involved are unknown  the olive ridley is a commercially important species threatened with extinction because it is under extreme exploitation pressure from fisheries between mexico and equador  because of the lack of data on the at sea behavior and movements of the olive ridley  any information collected will contribute significantly to our understanding of this animal  the objectives of this study are to    monitor the pre nesting and post nesting at sea movements and diving characteristics of the olive ridley and    determine the behavioral components involved in arribada mating and massing  these data will then be combined with information on the physiology of the same turtles  being obtained under grant bns    dr  owens and his colleagues will attach satellite tracking transmitters to female and male olive ridleys to follow their movements  both behavior in the vicinity of the nesting beach and long term migrations away from the nesting beach to the feeding grounds will be studied  monitoring these movements will allow the researchers to evaluate feeding  courtship  mating  and massing behaviors prior to and following arribada events  an improved understanding of the factors regulating the mass nesting and migratory behaviors has basic importance in marine zoology and potential value in developing improved methods for conserving this commercially exploited species    \n",
       "a9000094.txt  the continued destruction of the coastal and tropical forest in south and central america threatens the survival of natural animal populations  including the callitrichid primates  tamarins and marmosets   while the golden lion tamarins are considered an endangered species  through a highly successful breeding program at the university of nebraska under the auspices of the national zoological park  these primates are being bred in captivity and a small group of six have recently been reintroduced into forests of brazil  their survival as a species  however  depends extensively on understanding how their reproduction is synchronized to lead to a greater likelihood of fertilization  dr  french will investigate the complex interplay between internal physiological factors and external social and environmental factors in gold lion tamarins  unlike old world primates and apes  the callitrichid primates are monogamous and thus  develop a close and long lasting association  or pair  bond  between a breeding male and female  dr  french will use noninvasive data collection techniques for both hormone samples and behavioral measurements to compare the degree to which social factors influence hormonal regulation of reproduction  his findings will be compared with the results obtained in similarly conducted studies in which old world non monogamous primate species have been used  this work will contribute to our understanding of the role of hormonal and social influences on reproductive behavior in golden lion tamarins as well as other new world primates of which many are considered threatened or endangered species  furthermore  the results will significantly enhance the captive breeding programs of endangered species and thus  contribute to the preservation of these small south american primates                                                                                                                                                                                     \n",
       "\n",
       "              top_topic  top_ratio  \\\n",
       "a9000038.txt  1          0.8568      \n",
       "a9000053.txt  1          0.9160      \n",
       "a9000054.txt  1          0.8428      \n",
       "a9000075.txt  0          0.8178      \n",
       "a9000094.txt  0          0.8433      \n",
       "\n",
       "                                                                                                 topic_keywords  \n",
       "a9000038.txt  [theory, problem, equation, space, geometry, group, mathematical, analysis, investigator, method]  \n",
       "a9000053.txt  [theory, problem, equation, space, geometry, group, mathematical, analysis, investigator, method]  \n",
       "a9000054.txt  [theory, problem, equation, space, geometry, group, mathematical, analysis, investigator, method]  \n",
       "a9000075.txt  [cell, gene, month, protein, plant, brain, development, mechanism, animal, behavior]               \n",
       "a9000094.txt  [cell, gene, month, protein, plant, brain, development, mechanism, animal, behavior]               "
      ]
     },
     "execution_count": 12,
     "metadata": {},
     "output_type": "execute_result"
    }
   ],
   "source": [
    "visualization[\"topic_keywords\"] = visualization[\"top_topic\"].map(topics)\n",
    "pd.set_option('display.max_colwidth', -1)\n",
    "visualization.head()"
   ]
  },
  {
   "cell_type": "code",
   "execution_count": 13,
   "metadata": {
    "collapsed": true
   },
   "outputs": [],
   "source": [
    "# with open('results_lemmatized.pickle', 'wb') as handle:\n",
    "#     pickle.dump(visualization, handle, protocol=pickle.HIGHEST_PROTOCOL)"
   ]
  },
  {
   "cell_type": "code",
   "execution_count": 14,
   "metadata": {
    "collapsed": true
   },
   "outputs": [],
   "source": [
    "topics_keywords = pd.DataFrame.from_dict(topics, orient='index')"
   ]
  },
  {
   "cell_type": "code",
   "execution_count": 15,
   "metadata": {
    "collapsed": true
   },
   "outputs": [],
   "source": [
    "topics_keywords.index = topics_keywords.index.map(str)\n",
    "topics_keywords.index = 'topic ' + topics_keywords.index"
   ]
  },
  {
   "cell_type": "code",
   "execution_count": 16,
   "metadata": {
    "collapsed": false
   },
   "outputs": [
    {
     "data": {
      "text/html": [
       "<div>\n",
       "<style scoped>\n",
       "    .dataframe tbody tr th:only-of-type {\n",
       "        vertical-align: middle;\n",
       "    }\n",
       "\n",
       "    .dataframe tbody tr th {\n",
       "        vertical-align: top;\n",
       "    }\n",
       "\n",
       "    .dataframe thead th {\n",
       "        text-align: right;\n",
       "    }\n",
       "</style>\n",
       "<table border=\"1\" class=\"dataframe\">\n",
       "  <thead>\n",
       "    <tr style=\"text-align: right;\">\n",
       "      <th></th>\n",
       "      <th>0</th>\n",
       "      <th>1</th>\n",
       "      <th>2</th>\n",
       "      <th>3</th>\n",
       "      <th>4</th>\n",
       "      <th>5</th>\n",
       "      <th>6</th>\n",
       "      <th>7</th>\n",
       "      <th>8</th>\n",
       "      <th>9</th>\n",
       "    </tr>\n",
       "  </thead>\n",
       "  <tbody>\n",
       "    <tr>\n",
       "      <th>topic 0</th>\n",
       "      <td>cell</td>\n",
       "      <td>gene</td>\n",
       "      <td>month</td>\n",
       "      <td>protein</td>\n",
       "      <td>plant</td>\n",
       "      <td>brain</td>\n",
       "      <td>development</td>\n",
       "      <td>mechanism</td>\n",
       "      <td>animal</td>\n",
       "      <td>behavior</td>\n",
       "    </tr>\n",
       "    <tr>\n",
       "      <th>topic 1</th>\n",
       "      <td>theory</td>\n",
       "      <td>problem</td>\n",
       "      <td>equation</td>\n",
       "      <td>space</td>\n",
       "      <td>geometry</td>\n",
       "      <td>group</td>\n",
       "      <td>mathematical</td>\n",
       "      <td>analysis</td>\n",
       "      <td>investigator</td>\n",
       "      <td>method</td>\n",
       "    </tr>\n",
       "    <tr>\n",
       "      <th>topic 2</th>\n",
       "      <td>chemistry</td>\n",
       "      <td>reaction</td>\n",
       "      <td>program</td>\n",
       "      <td>molecule</td>\n",
       "      <td>metal</td>\n",
       "      <td>chemical</td>\n",
       "      <td>organic</td>\n",
       "      <td>university</td>\n",
       "      <td>surface</td>\n",
       "      <td>state</td>\n",
       "    </tr>\n",
       "  </tbody>\n",
       "</table>\n",
       "</div>"
      ],
      "text/plain": [
       "                 0         1         2         3         4         5  \\\n",
       "topic 0  cell       gene      month     protein   plant     brain      \n",
       "topic 1  theory     problem   equation  space     geometry  group      \n",
       "topic 2  chemistry  reaction  program   molecule  metal     chemical   \n",
       "\n",
       "                    6           7             8         9  \n",
       "topic 0  development   mechanism   animal        behavior  \n",
       "topic 1  mathematical  analysis    investigator  method    \n",
       "topic 2  organic       university  surface       state     "
      ]
     },
     "execution_count": 16,
     "metadata": {},
     "output_type": "execute_result"
    }
   ],
   "source": [
    "topics_keywords"
   ]
  },
  {
   "cell_type": "markdown",
   "metadata": {},
   "source": [
    "## <font color='blue'>Accuracy"
   ]
  },
  {
   "cell_type": "code",
   "execution_count": 17,
   "metadata": {
    "collapsed": false,
    "scrolled": true
   },
   "outputs": [
    {
     "name": "stdout",
     "output_type": "stream",
     "text": [
      "DMS\n",
      "Counter({1: 3253, 0: 316, 2: 97})\n"
     ]
    },
    {
     "data": {
      "image/png": "[encoded data removed]",
      "text/plain": [
       "<matplotlib.figure.Figure at 0x1d9cd3430f0>"
      ]
     },
     "metadata": {},
     "output_type": "display_data"
    },
    {
     "name": "stdout",
     "output_type": "stream",
     "text": [
      "IBN\n",
      "Counter({0: 1984, 2: 17, 1: 6})\n"
     ]
    },
    {
     "data": {
      "image/png": "[encoded data removed]",
      "text/plain": [
       "<matplotlib.figure.Figure at 0x1d9cd367fd0>"
      ]
     },
     "metadata": {},
     "output_type": "display_data"
    },
    {
     "name": "stdout",
     "output_type": "stream",
     "text": [
      "CHE\n",
      "Counter({2: 2150, 0: 49, 1: 16})\n"
     ]
    },
    {
     "data": {
      "image/png": "[encoded data removed]",
      "text/plain": [
       "<matplotlib.figure.Figure at 0x1d9cd437160>"
      ]
     },
     "metadata": {},
     "output_type": "display_data"
    }
   ],
   "source": [
    "import matplotlib.pyplot as pyplot\n",
    "from collections import Counter\n",
    "\n",
    "for tag in visualization['tag'].unique():\n",
    "    print(tag)\n",
    "    topic_distribution = Counter(visualization['top_topic'][visualization['tag'] == tag].tolist())\n",
    "    print(topic_distribution)\n",
    "    pyplot.pie([v for v in topic_distribution.values()], labels=[k for k in topic_distribution.keys()],autopct=None)\n",
    "    pyplot.show()"
   ]
  },
  {
   "cell_type": "code",
   "execution_count": 18,
   "metadata": {
    "collapsed": false
   },
   "outputs": [
    {
     "data": {
      "image/png": "[encoded data removed]",
      "text/plain": [
       "<matplotlib.figure.Figure at 0x1d9cd4a6748>"
      ]
     },
     "metadata": {},
     "output_type": "display_data"
    },
    {
     "data": {
      "image/png": "[encoded data removed]",
      "text/plain": [
       "<matplotlib.figure.Figure at 0x1d9cd4931d0>"
      ]
     },
     "metadata": {},
     "output_type": "display_data"
    },
    {
     "data": {
      "image/png": "[encoded data removed]",
      "text/plain": [
       "<matplotlib.figure.Figure at 0x1d9cd493240>"
      ]
     },
     "metadata": {},
     "output_type": "display_data"
    }
   ],
   "source": [
    "for tag in visualization['tag'].unique():\n",
    "    topic_distribution = Counter(visualization['top_topic'][visualization['tag'] == tag].tolist())\n",
    "    x = [k for k in topic_distribution.keys()]\n",
    "    y = [v for v in topic_distribution.values()]\n",
    "    x_pos = np.arange(len(x))\n",
    "\n",
    "    pyplot.bar(x_pos, y, align='center')\n",
    "    pyplot.xticks(x_pos, x, rotation='vertical')\n",
    "    pyplot.ylabel('Count')\n",
    "    pyplot.title(tag)\n",
    "    pyplot.show()"
   ]
  },
  {
   "cell_type": "code",
   "execution_count": 19,
   "metadata": {
    "collapsed": false
   },
   "outputs": [
    {
     "name": "stdout",
     "output_type": "stream",
     "text": [
      "\n",
      "DMS 0.8873431533006001\n",
      "\n",
      "IBN 0.9885401096163428\n",
      "\n",
      "CHE 0.9706546275395034\n"
     ]
    }
   ],
   "source": [
    "import operator\n",
    "for tag in visualization['tag'].unique():\n",
    "    topic_distribution = Counter(visualization['top_topic'][visualization['tag'] == tag].tolist())\n",
    "    maxTopic = max(topic_distribution.items(), key=operator.itemgetter(1))[1] # Predicted topic\n",
    "    size = sum(topic_distribution.values()) # Size of documents corrospound to the tag\n",
    "    print()\n",
    "    print(tag, maxTopic / size)\n",
    "        "
   ]
  },
  {
   "cell_type": "code",
   "execution_count": null,
   "metadata": {
    "collapsed": true
   },
   "outputs": [],
   "source": []
  }
 ],
 "metadata": {
  "kernelspec": {
   "display_name": "Python 3",
   "language": "python",
   "name": "python3"
  },
  "language_info": {
   "codemirror_mode": {
    "name": "ipython",
    "version": 3
   },
   "file_extension": ".py",
   "mimetype": "text/x-python",
   "name": "python",
   "nbconvert_exporter": "python",
   "pygments_lexer": "ipython3",
   "version": "3.6.0"
  }
 },
 "nbformat": 4,
 "nbformat_minor": 2
}
